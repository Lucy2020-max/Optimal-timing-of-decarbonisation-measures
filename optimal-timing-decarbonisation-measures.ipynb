{
 "cells": [
  {
   "cell_type": "code",
   "execution_count": 1,
   "id": "e35a7bb0",
   "metadata": {},
   "outputs": [],
   "source": [
    "# Optimal timing of decarbonisation measures\n",
    "import pulp as p\n",
    "import matplotlib.pyplot as plt\n",
    "import numpy as np"
   ]
  },
  {
   "cell_type": "code",
   "execution_count": 2,
   "id": "791513f9",
   "metadata": {},
   "outputs": [],
   "source": [
    "# decarbonisation measures\n",
    "MEASURES = [0, 1]\n",
    "\n",
    "# time steps\n",
    "TIME = [0, 1, 2, 3, 4, 5]\n",
    "TIME1 = [1, 2, 3, 4, 5]\n",
    "\n",
    "# costs of decarbonisation measures\n",
    "COSTS = [10, 20]\n",
    "\n",
    "# velocities of implementation of decarbonisation measures\n",
    "VELOCITIES = [1, 5]\n",
    "\n",
    "# baseline CO2 emissions\n",
    "Eref = [100, 100, 100, 100, 100]\n",
    "\n",
    "# time step\n",
    "Deltat = 1"
   ]
  },
  {
   "cell_type": "code",
   "execution_count": 3,
   "id": "88cfdac9",
   "metadata": {},
   "outputs": [],
   "source": [
    "problem = p.LpProblem('Optimal_Timing', p.LpMinimize)"
   ]
  },
  {
   "cell_type": "code",
   "execution_count": 4,
   "id": "ef5d7e3c",
   "metadata": {},
   "outputs": [],
   "source": [
    "# abatement of CO2 for different measures and time steps\n",
    "a = p.LpVariable.dicts(\"abatement\", [(i, t) for i in MEASURES for t in TIME], lowBound = 0, upBound = 100, cat='Continuous')"
   ]
  },
  {
   "cell_type": "code",
   "execution_count": 5,
   "id": "ff70f52a",
   "metadata": {},
   "outputs": [],
   "source": [
    "# CO2 emissions\n",
    "e = p.LpVariable.dicts(\"emissions\", [t for t in TIME], lowBound = 0, upBound = 100, cat='Continuous')"
   ]
  },
  {
   "cell_type": "code",
   "execution_count": 6,
   "id": "17cb9b09",
   "metadata": {},
   "outputs": [],
   "source": [
    "# Objective Function, minimise costs of decarbonisation measures\n",
    "problem += p.lpSum(COSTS[i]*a[(i, t)] for i in MEASURES for t in TIME)"
   ]
  },
  {
   "cell_type": "code",
   "execution_count": 7,
   "id": "b500f02a",
   "metadata": {},
   "outputs": [],
   "source": [
    "# initial condition on CO2 abatement\n",
    "for i in MEASURES:\n",
    "    problem += (a[(i, 0)] == 0)"
   ]
  },
  {
   "cell_type": "code",
   "execution_count": 8,
   "id": "d6637466",
   "metadata": {},
   "outputs": [],
   "source": [
    "# constraint on velocity of variation of abatement\n",
    "for i in MEASURES:\n",
    "    for t in TIME1:\n",
    "        problem += (a[(i, t)] - a[(i, t-1)] <= Deltat*VELOCITIES[i])"
   ]
  },
  {
   "cell_type": "code",
   "execution_count": 9,
   "id": "086104ef",
   "metadata": {},
   "outputs": [],
   "source": [
    "# constraint for calculation of emissions considering abatement\n",
    "for t in TIME:\n",
    "    problem += (e[t] == Eref[t-1] - p.lpSum(a[(i,t)] for i in MEASURES))"
   ]
  },
  {
   "cell_type": "code",
   "execution_count": 10,
   "id": "44f312c3",
   "metadata": {},
   "outputs": [],
   "source": [
    "# emission target at the end of the optimisation period\n",
    "problem += e[5] <= 77.2345"
   ]
  },
  {
   "cell_type": "code",
   "execution_count": 11,
   "id": "9201ea1f",
   "metadata": {},
   "outputs": [
    {
     "name": "stdout",
     "output_type": "stream",
     "text": [
      "Optimal\n"
     ]
    }
   ],
   "source": [
    "# solve the problem\n",
    "status = problem.solve()   # Solver\n",
    "print(p.LpStatus[status]) "
   ]
  },
  {
   "cell_type": "code",
   "execution_count": 12,
   "id": "6afdd520",
   "metadata": {},
   "outputs": [
    {
     "name": "stdout",
     "output_type": "stream",
     "text": [
      "CO2 abatement:\n",
      "Measure  0\n",
      "t = 0  a = 0.0\n",
      "t = 1  a = 1.0\n",
      "t = 2  a = 2.0\n",
      "t = 3  a = 3.0\n",
      "t = 4  a = 4.0\n",
      "t = 5  a = 5.0\n",
      "Measure  1\n",
      "t = 0  a = 0.0\n",
      "t = 1  a = 0.0\n",
      "t = 2  a = 2.7655\n",
      "t = 3  a = 7.7655\n",
      "t = 4  a = 12.7655\n",
      "t = 5  a = 17.7655\n",
      "Emissions:\n",
      "t = 0  e = 100.0\n",
      "t = 1  e = 99.0\n",
      "t = 2  e = 95.2345\n",
      "t = 3  e = 89.2345\n",
      "t = 4  e = 83.2345\n",
      "t = 5  e = 77.2345\n"
     ]
    }
   ],
   "source": [
    "# print results\n",
    "print(\"CO2 abatement:\")\n",
    "for i in MEASURES:\n",
    "    print(\"Measure \", i)\n",
    "    for t in TIME:\n",
    "        print(\"t =\", t, \" a =\", a[(i, t)].varValue)\n",
    "\n",
    "print(\"Emissions:\")        \n",
    "for t in TIME:\n",
    "    print(\"t =\", t, \" e =\", e[t].varValue)"
   ]
  },
  {
   "cell_type": "code",
   "execution_count": 13,
   "id": "2124d03b",
   "metadata": {},
   "outputs": [
    {
     "data": {
      "image/png": "[encoded data removed]",
      "text/plain": [
       "<Figure size 432x288 with 1 Axes>"
      ]
     },
     "metadata": {
      "needs_background": "light"
     },
     "output_type": "display_data"
    }
   ],
   "source": [
    "# plot CO2 abatements\n",
    "x = np.zeros(len(TIME))\n",
    "y = np.zeros(len(TIME))\n",
    "for t in TIME:\n",
    "    x[t] = a[(0, t)].varValue \n",
    "    y[t] = a[(1, t)].varValue\n",
    "\n",
    "plt.plot(TIME, x, label = \"measure 1\")\n",
    "plt.plot(TIME, y, label = \"measure 2\")\n",
    "plt.xlabel('Time')\n",
    "plt.ylabel('CO2 Abatement')\n",
    "plt.legend()\n",
    "plt.show()"
   ]
  },
  {
   "cell_type": "code",
   "execution_count": 14,
   "id": "6ac94b41",
   "metadata": {},
   "outputs": [
    {
     "name": "stderr",
     "output_type": "stream",
     "text": [
      "No handles with labels found to put in legend.\n"
     ]
    },
    {
     "data": {
      "image/png": "[encoded data removed]",
      "text/plain": [
       "<Figure size 432x288 with 1 Axes>"
      ]
     },
     "metadata": {
      "needs_background": "light"
     },
     "output_type": "display_data"
    }
   ],
   "source": [
    "# plot CO2 emissions\n",
    "z = np.zeros(len(TIME))\n",
    "for t in TIME:\n",
    "    z[t] = e[t].varValue\n",
    "\n",
    "plt.plot(TIME, z)\n",
    "plt.xlabel('Time')\n",
    "plt.ylabel('CO2 emissions')\n",
    "plt.legend()\n",
    "plt.show()"
   ]
  },
  {
   "cell_type": "code",
   "execution_count": null,
   "id": "2196b169",
   "metadata": {},
   "outputs": [],
   "source": []
  }
 ],
 "metadata": {
  "kernelspec": {
   "display_name": "Python 3",
   "language": "python",
   "name": "python3"
  },
  "language_info": {
   "codemirror_mode": {
    "name": "ipython",
    "version": 3
   },
   "file_extension": ".py",
   "mimetype": "text/x-python",
   "name": "python",
   "nbconvert_exporter": "python",
   "pygments_lexer": "ipython3",
   "version": "3.8.8"
  }
 },
 "nbformat": 4,
 "nbformat_minor": 5
}
